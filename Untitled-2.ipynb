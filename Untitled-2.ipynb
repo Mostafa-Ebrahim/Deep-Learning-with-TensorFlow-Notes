{
 "cells": [
  {
   "cell_type": "markdown",
   "metadata": {},
   "source": [
    "## Loading in your own data"
   ]
  },
  {
   "cell_type": "code",
   "execution_count": 12,
   "metadata": {},
   "outputs": [],
   "source": [
    "import matplotlib.pyplot as plt\n",
    "from cv2 import cv2\n",
    "import numpy as np\n",
    "import random\n",
    "import os\n",
    "from shutil import copyfile\n",
    "from pathlib import Path\n",
    "from tensorflow.keras.preprocessing.image import ImageDataGenerator"
   ]
  },
  {
   "cell_type": "code",
   "execution_count": 13,
   "metadata": {},
   "outputs": [],
   "source": [
    "img_size = 28\n",
    "training_data = []\n",
    "def create_training_data(directory, categories):\n",
    "    for category in categories:\n",
    "        class_num = categories.index(category)\n",
    "        path = os.path.join(directory, category)\n",
    "        for img in os.listdir(path):\n",
    "            try:\n",
    "                img_array = cv2.imread(os.path.join(path, img), cv2.IMREAD_GRAYSCALE)\n",
    "                new_array = cv2.resize(img_array, (img_size, img_size))\n",
    "                training_data.append([new_array, class_num])\n",
    "            except:\n",
    "                pass"
   ]
  },
  {
   "cell_type": "code",
   "execution_count": 19,
   "metadata": {},
   "outputs": [
    {
     "data": {
      "text/plain": [
       "1200"
      ]
     },
     "execution_count": 19,
     "metadata": {},
     "output_type": "execute_result"
    }
   ],
   "source": [
    "data_dir = 'D:\\Eng. Mostafa\\Software engineering\\Projects\\Self-Driving-Car-Engineer-ND\\Deep-Learnin-with-Python-TensorFlow\\shapes'\n",
    "categories = [\"circles\", \"squares\", \"triangles\"]\n",
    "\n",
    "create_training_data(data_dir, categories)\n",
    "len(training_data)"
   ]
  },
  {
   "cell_type": "code",
   "execution_count": 20,
   "metadata": {},
   "outputs": [],
   "source": [
    "random.shuffle(training_data)\n",
    "# random.shuffle(training_data)"
   ]
  },
  {
   "cell_type": "code",
   "execution_count": 21,
   "metadata": {},
   "outputs": [
    {
     "name": "stdout",
     "output_type": "stream",
     "text": [
      "0\n",
      "2\n",
      "2\n",
      "0\n",
      "2\n",
      "1\n",
      "1\n",
      "2\n",
      "1\n",
      "0\n"
     ]
    }
   ],
   "source": [
    "for sample in training_data[:10]:\n",
    "    print(sample[1])"
   ]
  },
  {
   "cell_type": "code",
   "execution_count": 22,
   "metadata": {},
   "outputs": [],
   "source": [
    "X = []\n",
    "y = []\n",
    "\n",
    "for features, label in training_data:\n",
    "    X.append(features)\n",
    "    y.append(label)\n",
    "\n",
    "X = np.array(X).reshape(-1, img_size, img_size, 1)"
   ]
  },
  {
   "cell_type": "code",
   "execution_count": 23,
   "metadata": {},
   "outputs": [
    {
     "data": {
      "text/plain": [
       "<matplotlib.image.AxesImage at 0x202313ea8b0>"
      ]
     },
     "execution_count": 23,
     "metadata": {},
     "output_type": "execute_result"
    },
    {
     "data": {
      "image/png": "[encoded data removed]",
      "text/plain": [
       "<Figure size 432x288 with 1 Axes>"
      ]
     },
     "metadata": {
      "needs_background": "light"
     },
     "output_type": "display_data"
    }
   ],
   "source": [
    "img = X[5]\n",
    "plt.imshow(img)"
   ]
  },
  {
   "cell_type": "code",
   "execution_count": 24,
   "metadata": {},
   "outputs": [],
   "source": [
    "# save data\n",
    "import pickle\n",
    "\n",
    "pickle_out = open(\"X.pickle\", \"wb\")\n",
    "pickle.dump(X, pickle_out)\n",
    "pickle_out.close()\n",
    "\n",
    "pickle_out = open(\"y.pickle\", \"wb\")\n",
    "pickle.dump(y, pickle_out)\n",
    "pickle_out.close()"
   ]
  },
  {
   "cell_type": "code",
   "execution_count": 25,
   "metadata": {},
   "outputs": [],
   "source": [
    "train_circles_dir = \"./shapes/training/circles\"\n",
    "Path(train_circles_dir).mkdir(parents=True, exist_ok=True)\n",
    "train_squares_dir = \"./shapes/training/squares\"\n",
    "Path(train_squares_dir).mkdir(parents=True, exist_ok=True)\n",
    "train_triangles_dir = \"./shapes/training/triangles\"\n",
    "Path(train_triangles_dir).mkdir(parents=True, exist_ok=True)\n",
    "\n",
    "val_circles_dir = \"./shapes/testing/circles\"\n",
    "Path(val_circles_dir).mkdir(parents=True, exist_ok=True)\n",
    "val_squares_dir = \"./shapes/testing/squares\"\n",
    "Path(val_squares_dir).mkdir(parents=True, exist_ok=True)\n",
    "val_triangles_dir = \"./shapes/testing/triangles\"\n",
    "Path(val_triangles_dir).mkdir(parents=True, exist_ok=True)\n",
    "\n"
   ]
  },
  {
   "cell_type": "code",
   "execution_count": 26,
   "metadata": {},
   "outputs": [],
   "source": [
    "def split_data(source, training, testing, split_size):\n",
    "    files = []\n",
    "    \n",
    "    for f in os.listdir(source):\n",
    "        f_path = source + f\n",
    "        if os.path.getsize(f_path):\n",
    "            files.append(f)\n",
    "   \n",
    "    split_point = int(len(files) * split_size)\n",
    "    random.shuffle(files)\n",
    "    train_set = files[:split_point]\n",
    "    val_set = files[split_point:]\n",
    "    \n",
    "    for f in train_set:\n",
    "        copyfile(os.path.join(source, f), os.path.join(training, f))\n",
    "        \n",
    "    for f in val_set:\n",
    "        copyfile(os.path.join(source, f), os.path.join(testing, f))\n",
    "\n",
    "split_data('./shapes/circles/', train_circles_dir, val_circles_dir, 0.7)\n",
    "split_data('./shapes/squares/', train_squares_dir, val_squares_dir, 0.7)\n",
    "split_data('./shapes/triangles/', train_triangles_dir, val_triangles_dir, 0.7)"
   ]
  },
  {
   "cell_type": "code",
   "execution_count": null,
   "metadata": {},
   "outputs": [],
   "source": [
    "# Load data\n",
    "# X = pickle.load(open(\"X.pickle\", \"rb\"))"
   ]
  },
  {
   "cell_type": "code",
   "execution_count": null,
   "metadata": {},
   "outputs": [],
   "source": []
  }
 ],
 "metadata": {
  "interpreter": {
   "hash": "78bb203e2ce528e5c31ad6a50747427c20f820d6bb0e9e1dc60fc167d8a97e80"
  },
  "kernelspec": {
   "display_name": "Python 3.9.5 64-bit ('base': conda)",
   "language": "python",
   "name": "python3"
  },
  "language_info": {
   "codemirror_mode": {
    "name": "ipython",
    "version": 3
   },
   "file_extension": ".py",
   "mimetype": "text/x-python",
   "name": "python",
   "nbconvert_exporter": "python",
   "pygments_lexer": "ipython3",
   "version": "3.9.7"
  },
  "orig_nbformat": 4
 },
 "nbformat": 4,
 "nbformat_minor": 2
}
